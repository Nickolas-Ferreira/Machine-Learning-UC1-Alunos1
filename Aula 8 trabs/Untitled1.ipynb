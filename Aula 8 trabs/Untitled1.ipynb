{
 "cells": [
  {
   "cell_type": "code",
   "execution_count": 1,
   "id": "6f4e9ea0-10ee-44d7-a7aa-b5b5771c3f65",
   "metadata": {},
   "outputs": [],
   "source": [
    "import torch\n",
    "import torch.nn as nn\n",
    "import torch.optim as optim\n",
    "import numpy as np\n",
    "import matplotlib.pyplot as plt\n"
   ]
  },
  {
   "cell_type": "code",
   "execution_count": null,
   "id": "ebd8c03c-43ed-4fc2-856b-dc9e06e4b7ea",
   "metadata": {},
   "outputs": [],
   "source": []
  },
  {
   "cell_type": "code",
   "execution_count": null,
   "id": "ec30228f-0d64-4d58-9ba0-fec18571ba33",
   "metadata": {},
   "outputs": [],
   "source": []
  },
  {
   "cell_type": "code",
   "execution_count": null,
   "id": "39cf9825-80bb-452d-8337-dbb0f46f13e8",
   "metadata": {},
   "outputs": [],
   "source": [
    "# Passo 3: Dividindo os dados em treino e teste\n",
    "# Como estamos no PyTorch, vamos fazer manualmente\n",
    "train_size = int(0.8 * len(X_tensor))\n",
    "X_train, X_test = X_tensor[:train_size], X_tensor[train_size:]\n",
    "y_train, y_test = y_tensor[:train_size], y_tensor[train_size:]"
   ]
  },
  {
   "cell_type": "code",
   "execution_count": null,
   "id": "1ed83f93-bc4a-402a-9330-f399ce6bce10",
   "metadata": {},
   "outputs": [],
   "source": [
    "# Passo 4: Definindo o modelo de regressão linear\n",
    "class LinearRegression(nn.Module):\n",
    "    def __init__(self):\n",
    "        super(LinearRegression, self).__init__()\n",
    "        self.linear = nn.Linear(1, 1)  # Camada linear: y = a*x + b\n",
    "\n",
    "    def forward(self, x):\n",
    "        return self.linear(x)\n",
    "\n",
    "model = LinearRegression()"
   ]
  },
  {
   "cell_type": "code",
   "execution_count": null,
   "id": "215e5802-b400-4647-a4b4-e23b60507662",
   "metadata": {},
   "outputs": [],
   "source": [
    "#5\n",
    "criterion = nn.MSELoss()\n",
    "optimizer = optim.SGD(modelparameters(), lr=0.01)"
   ]
  },
  {
   "cell_type": "code",
   "execution_count": null,
   "id": "2c9fd6fb-9e76-49b8-a48e-f6f0450c9acb",
   "metadata": {},
   "outputs": [],
   "source": [
    "# Passo 6: Treinamento do modelo\n",
    "epochs = 300\n",
    "for epoch in range(epochs):\n",
    "    # Forward pass\n",
    "    outputs = model(X_train)\n",
    "    loss = criterion(outputs, y_train)\n",
    "\n",
    "    # Backward pass e otimização\n",
    "    optimizer.zero_grad()\n",
    "    loss.backward()\n",
    "    optimizer.step()\n",
    "\n",
    "    if (epoch + 1) % 50 == 0:\n",
    "        print(f'Época [{epoch+1}/{epochs}], Perda: {loss.item():.4f}')"
   ]
  },
  {
   "cell_type": "code",
   "execution_count": null,
   "id": "91da1160-111b-4444-9498-0683a1e15c99",
   "metadata": {},
   "outputs": [],
   "source": [
    "# Passo 6: Treinamento do modelo\n",
    "epochs = 1000\n",
    "for epoch in range(epochs):\n",
    "    # Forward pass\n",
    "    outputs = model(X_train)\n",
    "    loss = criterion(outputs, y_train)\n",
    "\n",
    "    # Backward pass e otimização\n",
    "    optimizer.zero_grad()\n",
    "    loss.backward()\n",
    "    optimizer.step()\n",
    "\n",
    "    if (epoch + 1) % 50 == 0:\n",
    "        print(f'Época [{epoch+1}/{epochs}], Perda: {loss.item():.4f}')"
   ]
  },
  {
   "cell_type": "code",
   "execution_count": null,
   "id": "d971fb4b-10ef-4cdf-83c5-a434a344df52",
   "metadata": {},
   "outputs": [],
   "source": [
    "#7\n",
    "model.eval() # desli test\n",
    "with torch.no_grad():\n",
    "        y_pred = model(X_test)"
   ]
  },
  {
   "cell_type": "code",
   "execution_count": null,
   "id": "968e73f7-c6a1-4994-9e4c-9a3ba1544c95",
   "metadata": {},
   "outputs": [],
   "source": [
    "print('\\nvalores reias:   ', y_test.numpy().flatten())\n",
    "print('valores previstos:', y_pred.numpy().flatten())"
   ]
  },
  {
   "cell_type": "code",
   "execution_count": null,
   "id": "a8930578-2d81-43e5-bd13-70f82b446e8a",
   "metadata": {},
   "outputs": [],
   "source": [
    "mse = criterion(y_pred, y_test).item()\n",
    "print('\\n erro medio qaudratico mse:', round(mse, 4))"
   ]
  },
  {
   "cell_type": "code",
   "execution_count": null,
   "id": "3b0db714-db7c-4948-8076-447a43bbf8c7",
   "metadata": {},
   "outputs": [],
   "source": []
  }
 ],
 "metadata": {
  "kernelspec": {
   "display_name": "Python ML (venv)",
   "language": "python",
   "name": "machine_learning"
  },
  "language_info": {
   "codemirror_mode": {
    "name": "ipython",
    "version": 3
   },
   "file_extension": ".py",
   "mimetype": "text/x-python",
   "name": "python",
   "nbconvert_exporter": "python",
   "pygments_lexer": "ipython3",
   "version": "3.10.5"
  }
 },
 "nbformat": 4,
 "nbformat_minor": 5
}
