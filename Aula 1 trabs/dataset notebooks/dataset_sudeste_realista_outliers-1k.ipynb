{
 "cells": [
  {
   "cell_type": "code",
   "execution_count": 1,
   "id": "b08e5a83-ede0-4284-a80d-f4e7ac6889b2",
   "metadata": {},
   "outputs": [],
   "source": [
    "import pandas as pd\n",
    "import numpy as np\n",
    "import matplotlib.pyplot as plt\n",
    "from sklearn.preprocessing import StandardScaler"
   ]
  },
  {
   "cell_type": "code",
   "execution_count": 2,
   "id": "afe3a783-0b8a-49dd-b255-d7981ef63da7",
   "metadata": {},
   "outputs": [],
   "source": [
    "df= pd.read_csv(\"../datasets brutos/dataset_sudeste_realista_outliers-1k.csv\")"
   ]
  },
  {
   "cell_type": "code",
   "execution_count": 3,
   "id": "e2ae5a51-9f16-46c3-b17b-e6269ebd84ef",
   "metadata": {},
   "outputs": [
    {
     "data": {
      "text/html": [
       "<div>\n",
       "<style scoped>\n",
       "    .dataframe tbody tr th:only-of-type {\n",
       "        vertical-align: middle;\n",
       "    }\n",
       "\n",
       "    .dataframe tbody tr th {\n",
       "        vertical-align: top;\n",
       "    }\n",
       "\n",
       "    .dataframe thead th {\n",
       "        text-align: right;\n",
       "    }\n",
       "</style>\n",
       "<table border=\"1\" class=\"dataframe\">\n",
       "  <thead>\n",
       "    <tr style=\"text-align: right;\">\n",
       "      <th></th>\n",
       "      <th>id</th>\n",
       "      <th>idade</th>\n",
       "      <th>renda</th>\n",
       "      <th>cidade</th>\n",
       "      <th>categoria</th>\n",
       "      <th>nota</th>\n",
       "      <th>feedback</th>\n",
       "    </tr>\n",
       "  </thead>\n",
       "  <tbody>\n",
       "    <tr>\n",
       "      <th>0</th>\n",
       "      <td>1</td>\n",
       "      <td>47.0</td>\n",
       "      <td>19142.87</td>\n",
       "      <td>Rio de Janeiro</td>\n",
       "      <td>A</td>\n",
       "      <td>6.7</td>\n",
       "      <td>Bom</td>\n",
       "    </tr>\n",
       "    <tr>\n",
       "      <th>1</th>\n",
       "      <td>2</td>\n",
       "      <td>71.0</td>\n",
       "      <td>12223.92</td>\n",
       "      <td>Belo Horizonte</td>\n",
       "      <td>B</td>\n",
       "      <td>5.2</td>\n",
       "      <td>Bom</td>\n",
       "    </tr>\n",
       "    <tr>\n",
       "      <th>2</th>\n",
       "      <td>3</td>\n",
       "      <td>63.0</td>\n",
       "      <td>30367.01</td>\n",
       "      <td>São Paulo</td>\n",
       "      <td>B</td>\n",
       "      <td>7.7</td>\n",
       "      <td>Bom</td>\n",
       "    </tr>\n",
       "    <tr>\n",
       "      <th>3</th>\n",
       "      <td>4</td>\n",
       "      <td>86.0</td>\n",
       "      <td>1302.50</td>\n",
       "      <td>São Paulo</td>\n",
       "      <td>A</td>\n",
       "      <td>4.0</td>\n",
       "      <td>Bom</td>\n",
       "    </tr>\n",
       "    <tr>\n",
       "      <th>4</th>\n",
       "      <td>5</td>\n",
       "      <td>26.0</td>\n",
       "      <td>25154.53</td>\n",
       "      <td>Belo Horizonte</td>\n",
       "      <td>A</td>\n",
       "      <td>6.9</td>\n",
       "      <td>Bom</td>\n",
       "    </tr>\n",
       "  </tbody>\n",
       "</table>\n",
       "</div>"
      ],
      "text/plain": [
       "   id  idade     renda          cidade categoria  nota feedback\n",
       "0   1   47.0  19142.87  Rio de Janeiro         A   6.7      Bom\n",
       "1   2   71.0  12223.92  Belo Horizonte         B   5.2      Bom\n",
       "2   3   63.0  30367.01       São Paulo         B   7.7      Bom\n",
       "3   4   86.0   1302.50       São Paulo         A   4.0      Bom\n",
       "4   5   26.0  25154.53  Belo Horizonte         A   6.9      Bom"
      ]
     },
     "execution_count": 3,
     "metadata": {},
     "output_type": "execute_result"
    }
   ],
   "source": [
    "df.head()"
   ]
  },
  {
   "cell_type": "code",
   "execution_count": 4,
   "id": "2659b93e-46e6-47dc-b306-a116ed48073e",
   "metadata": {},
   "outputs": [
    {
     "name": "stdout",
     "output_type": "stream",
     "text": [
      "<class 'pandas.core.frame.DataFrame'>\n",
      "RangeIndex: 1000 entries, 0 to 999\n",
      "Data columns (total 7 columns):\n",
      " #   Column     Non-Null Count  Dtype  \n",
      "---  ------     --------------  -----  \n",
      " 0   id         1000 non-null   int64  \n",
      " 1   idade      989 non-null    float64\n",
      " 2   renda      990 non-null    float64\n",
      " 3   cidade     992 non-null    object \n",
      " 4   categoria  988 non-null    object \n",
      " 5   nota       990 non-null    float64\n",
      " 6   feedback   960 non-null    object \n",
      "dtypes: float64(3), int64(1), object(3)\n",
      "memory usage: 54.8+ KB\n"
     ]
    }
   ],
   "source": [
    "df.info()"
   ]
  },
  {
   "cell_type": "code",
   "execution_count": 5,
   "id": "584d2d06-f9f4-4eea-82e8-d31c381f8970",
   "metadata": {},
   "outputs": [
    {
     "data": {
      "text/html": [
       "<div>\n",
       "<style scoped>\n",
       "    .dataframe tbody tr th:only-of-type {\n",
       "        vertical-align: middle;\n",
       "    }\n",
       "\n",
       "    .dataframe tbody tr th {\n",
       "        vertical-align: top;\n",
       "    }\n",
       "\n",
       "    .dataframe thead th {\n",
       "        text-align: right;\n",
       "    }\n",
       "</style>\n",
       "<table border=\"1\" class=\"dataframe\">\n",
       "  <thead>\n",
       "    <tr style=\"text-align: right;\">\n",
       "      <th></th>\n",
       "      <th>id</th>\n",
       "      <th>idade</th>\n",
       "      <th>renda</th>\n",
       "      <th>nota</th>\n",
       "    </tr>\n",
       "  </thead>\n",
       "  <tbody>\n",
       "    <tr>\n",
       "      <th>count</th>\n",
       "      <td>1000.000000</td>\n",
       "      <td>989.000000</td>\n",
       "      <td>990.000000</td>\n",
       "      <td>990.000000</td>\n",
       "    </tr>\n",
       "    <tr>\n",
       "      <th>mean</th>\n",
       "      <td>500.500000</td>\n",
       "      <td>49.254803</td>\n",
       "      <td>23676.391303</td>\n",
       "      <td>7.433030</td>\n",
       "    </tr>\n",
       "    <tr>\n",
       "      <th>std</th>\n",
       "      <td>288.819436</td>\n",
       "      <td>19.363605</td>\n",
       "      <td>13360.810448</td>\n",
       "      <td>1.519156</td>\n",
       "    </tr>\n",
       "    <tr>\n",
       "      <th>min</th>\n",
       "      <td>1.000000</td>\n",
       "      <td>6.000000</td>\n",
       "      <td>613.850000</td>\n",
       "      <td>0.100000</td>\n",
       "    </tr>\n",
       "    <tr>\n",
       "      <th>25%</th>\n",
       "      <td>250.750000</td>\n",
       "      <td>33.000000</td>\n",
       "      <td>11559.795000</td>\n",
       "      <td>6.100000</td>\n",
       "    </tr>\n",
       "    <tr>\n",
       "      <th>50%</th>\n",
       "      <td>500.500000</td>\n",
       "      <td>49.000000</td>\n",
       "      <td>23723.395000</td>\n",
       "      <td>7.400000</td>\n",
       "    </tr>\n",
       "    <tr>\n",
       "      <th>75%</th>\n",
       "      <td>750.250000</td>\n",
       "      <td>66.000000</td>\n",
       "      <td>34942.752500</td>\n",
       "      <td>8.775000</td>\n",
       "    </tr>\n",
       "    <tr>\n",
       "      <th>max</th>\n",
       "      <td>1000.000000</td>\n",
       "      <td>97.000000</td>\n",
       "      <td>65635.270000</td>\n",
       "      <td>10.000000</td>\n",
       "    </tr>\n",
       "  </tbody>\n",
       "</table>\n",
       "</div>"
      ],
      "text/plain": [
       "                id       idade         renda        nota\n",
       "count  1000.000000  989.000000    990.000000  990.000000\n",
       "mean    500.500000   49.254803  23676.391303    7.433030\n",
       "std     288.819436   19.363605  13360.810448    1.519156\n",
       "min       1.000000    6.000000    613.850000    0.100000\n",
       "25%     250.750000   33.000000  11559.795000    6.100000\n",
       "50%     500.500000   49.000000  23723.395000    7.400000\n",
       "75%     750.250000   66.000000  34942.752500    8.775000\n",
       "max    1000.000000   97.000000  65635.270000   10.000000"
      ]
     },
     "execution_count": 5,
     "metadata": {},
     "output_type": "execute_result"
    }
   ],
   "source": [
    "df.describe()"
   ]
  },
  {
   "cell_type": "code",
   "execution_count": 6,
   "id": "9ee5bb20-a82e-4b8d-a7e3-87144f96da14",
   "metadata": {},
   "outputs": [],
   "source": [
    "Q1 = df['renda'].quantile(0.25)\n",
    "Q3 = df['renda'].quantile(0.75)\n",
    "IQR = Q3 - Q1\n",
    "limite_inferior = Q1 - 1.5 * IQR\n",
    "limite_superior = Q3 + 1.5 * IQR"
   ]
  },
  {
   "cell_type": "code",
   "execution_count": 7,
   "id": "f076a64c-7f2c-4dfb-a09e-99cbe3e2c2d8",
   "metadata": {},
   "outputs": [
    {
     "name": "stdout",
     "output_type": "stream",
     "text": [
      "\n",
      "\n",
      "\t IQR - Campo Renda\n",
      "\n",
      "\n",
      "Quartis -> Q1: 11559.80  ->  Q3: 34942.75\n",
      "IQR ----- 23382.957500000004\n",
      "Limites - Inf: -23514.64  -> Sup: 70017.19\n",
      "\n",
      "\n",
      "\n"
     ]
    }
   ],
   "source": [
    "print (f\"\\n\\n\\t IQR - Campo Renda\\n\\n\")\n",
    "print(f\"Quartis -> Q1: {Q1:-8.2f}  ->  Q3: {Q3:-8.2f}\")\n",
    "print(f\"IQR ----- {IQR}\")\n",
    "print(f\"Limites - Inf: {limite_inferior:-8.2f}  -> Sup: {limite_superior:-8.2f}\")\n",
    "print(f\"\\n\\n\")"
   ]
  },
  {
   "cell_type": "code",
   "execution_count": 8,
   "id": "7d7ddeb4-749e-40b0-83ce-a915b9c8ac75",
   "metadata": {},
   "outputs": [
    {
     "name": "stdout",
     "output_type": "stream",
     "text": [
      "\n",
      "### Possíveis outliers em 'renda' ###\n",
      "\n",
      "Empty DataFrame\n",
      "Columns: [id, idade, renda, cidade, categoria, nota, feedback]\n",
      "Index: []\n",
      "\n"
     ]
    }
   ],
   "source": [
    "outliers = df[(df['renda'] < limite_inferior) | (df['renda'] > limite_superior)]\n",
    "print(f\"\\n### Possíveis outliers em 'renda' ###\\n\\n{outliers}\\n\")"
   ]
  },
  {
   "cell_type": "code",
   "execution_count": 9,
   "id": "efc22f12-091b-43c4-b5e4-1a6e40aad829",
   "metadata": {},
   "outputs": [
    {
     "name": "stdout",
     "output_type": "stream",
     "text": [
      "id            0\n",
      "idade        11\n",
      "renda        10\n",
      "cidade        8\n",
      "categoria    12\n",
      "nota         10\n",
      "feedback     40\n",
      "dtype: int64\n"
     ]
    }
   ],
   "source": [
    "print(df.isnull().sum())"
   ]
  },
  {
   "cell_type": "code",
   "execution_count": 10,
   "id": "a32d992b-7c9e-4797-8f8d-800705712289",
   "metadata": {},
   "outputs": [],
   "source": [
    "mean_idade = df['idade'].mean()\n",
    "mean_renda = df['renda'].mean()\n",
    "mean_nota = df['nota'].mean()"
   ]
  },
  {
   "cell_type": "code",
   "execution_count": 11,
   "id": "d9ad4fc4-85f9-4a11-baae-755c0fc02027",
   "metadata": {},
   "outputs": [
    {
     "name": "stdout",
     "output_type": "stream",
     "text": [
      "Mediada das Idades 49.25480283114257\n",
      "Mediada das Notas 7.4330303030303035\n",
      "Valor médio das Rendas 23676.391303030305 - 23676.39\n"
     ]
    }
   ],
   "source": [
    "print(f\"Mediada das Idades {mean_idade}\")\n",
    "print(f\"Mediada das Notas {mean_nota}\")\n",
    "print(f\"Valor médio das Rendas {mean_renda} - {mean_renda:.2f}\")"
   ]
  },
  {
   "cell_type": "code",
   "execution_count": 12,
   "id": "b45ca93d-22ad-499f-a61e-0974ffc99c03",
   "metadata": {},
   "outputs": [],
   "source": [
    "df['idade'] = df['idade'].fillna(mean_idade)\n",
    "df['nota'] = df['nota'].fillna(mean_nota)\n",
    "df['renda'] = df['renda'].fillna(mean_renda)"
   ]
  },
  {
   "cell_type": "code",
   "execution_count": 13,
   "id": "833139e0-a74f-48cd-ae0e-12c65bc9699d",
   "metadata": {},
   "outputs": [
    {
     "name": "stdout",
     "output_type": "stream",
     "text": [
      "id            0\n",
      "idade         0\n",
      "renda         0\n",
      "cidade        8\n",
      "categoria    12\n",
      "nota          0\n",
      "feedback     40\n",
      "dtype: int64\n"
     ]
    }
   ],
   "source": [
    "print(df.isnull().sum())"
   ]
  },
  {
   "cell_type": "code",
   "execution_count": 14,
   "id": "1cdf6bb1-50e2-4aed-ad36-3f9fb818c255",
   "metadata": {},
   "outputs": [],
   "source": [
    "df['cidade'] = df['cidade'].fillna(\"Desconhecido\")\n",
    "df['feedback'] = df['feedback'].fillna(\"Desconhecido\")\n",
    "df['categoria'] = df['categoria'].fillna(\"Desconhecido\")"
   ]
  },
  {
   "cell_type": "code",
   "execution_count": 15,
   "id": "6f1ad1e4-ebb4-41bc-a813-55a8d38cb7d6",
   "metadata": {},
   "outputs": [
    {
     "name": "stdout",
     "output_type": "stream",
     "text": [
      "id           0\n",
      "idade        0\n",
      "renda        0\n",
      "cidade       0\n",
      "categoria    0\n",
      "nota         0\n",
      "feedback     0\n",
      "dtype: int64\n"
     ]
    }
   ],
   "source": [
    "print(df.isnull().sum())"
   ]
  },
  {
   "cell_type": "code",
   "execution_count": 16,
   "id": "3885f6fd-25fa-43d9-a0f0-b1dc28216041",
   "metadata": {},
   "outputs": [],
   "source": [
    "df.to_csv('dataset_sudeste_realista_outliers-1k-limpo.csv', index=False)"
   ]
  }
 ],
 "metadata": {
  "kernelspec": {
   "display_name": "Python ML (venv)",
   "language": "python",
   "name": "machine_learning"
  },
  "language_info": {
   "codemirror_mode": {
    "name": "ipython",
    "version": 3
   },
   "file_extension": ".py",
   "mimetype": "text/x-python",
   "name": "python",
   "nbconvert_exporter": "python",
   "pygments_lexer": "ipython3",
   "version": "3.10.5"
  }
 },
 "nbformat": 4,
 "nbformat_minor": 5
}
