{
 "cells": [
  {
   "cell_type": "code",
   "execution_count": 1,
   "id": "634c101a-1896-47bf-97ad-ad849f9ed363",
   "metadata": {},
   "outputs": [],
   "source": [
    "import pandas as pd\n",
    "import numpy as np\n",
    "import matplotlib.pyplot as plt\n",
    "from sklearn.preprocessing import StandardScaler"
   ]
  },
  {
   "cell_type": "code",
   "execution_count": 2,
   "id": "ccbd1fe4-091f-4e29-91e8-9a2a3fe17203",
   "metadata": {},
   "outputs": [],
   "source": [
    "df= pd.read_csv(\"../datasets brutos/dataset_sudeste_realista_outliers-2k.csv\")"
   ]
  },
  {
   "cell_type": "code",
   "execution_count": 3,
   "id": "3e4e69be-caa0-4d12-98f6-91256d3ae1b6",
   "metadata": {},
   "outputs": [
    {
     "data": {
      "text/html": [
       "<div>\n",
       "<style scoped>\n",
       "    .dataframe tbody tr th:only-of-type {\n",
       "        vertical-align: middle;\n",
       "    }\n",
       "\n",
       "    .dataframe tbody tr th {\n",
       "        vertical-align: top;\n",
       "    }\n",
       "\n",
       "    .dataframe thead th {\n",
       "        text-align: right;\n",
       "    }\n",
       "</style>\n",
       "<table border=\"1\" class=\"dataframe\">\n",
       "  <thead>\n",
       "    <tr style=\"text-align: right;\">\n",
       "      <th></th>\n",
       "      <th>id</th>\n",
       "      <th>idade</th>\n",
       "      <th>renda</th>\n",
       "      <th>cidade</th>\n",
       "      <th>categoria</th>\n",
       "      <th>nota</th>\n",
       "      <th>feedback</th>\n",
       "    </tr>\n",
       "  </thead>\n",
       "  <tbody>\n",
       "    <tr>\n",
       "      <th>0</th>\n",
       "      <td>1</td>\n",
       "      <td>39.0</td>\n",
       "      <td>35157.99</td>\n",
       "      <td>Rio de Janeiro</td>\n",
       "      <td>A</td>\n",
       "      <td>6.1</td>\n",
       "      <td>Bom</td>\n",
       "    </tr>\n",
       "    <tr>\n",
       "      <th>1</th>\n",
       "      <td>2</td>\n",
       "      <td>63.0</td>\n",
       "      <td>5500.66</td>\n",
       "      <td>Rio de Janeiro</td>\n",
       "      <td>B</td>\n",
       "      <td>7.2</td>\n",
       "      <td>Bom</td>\n",
       "    </tr>\n",
       "    <tr>\n",
       "      <th>2</th>\n",
       "      <td>3</td>\n",
       "      <td>30.0</td>\n",
       "      <td>20004.05</td>\n",
       "      <td>Vitória</td>\n",
       "      <td>A</td>\n",
       "      <td>7.6</td>\n",
       "      <td>Bom</td>\n",
       "    </tr>\n",
       "    <tr>\n",
       "      <th>3</th>\n",
       "      <td>4</td>\n",
       "      <td>50.0</td>\n",
       "      <td>37078.59</td>\n",
       "      <td>Vitória</td>\n",
       "      <td>B</td>\n",
       "      <td>5.9</td>\n",
       "      <td>Bom</td>\n",
       "    </tr>\n",
       "    <tr>\n",
       "      <th>4</th>\n",
       "      <td>5</td>\n",
       "      <td>69.0</td>\n",
       "      <td>43751.21</td>\n",
       "      <td>Vitória</td>\n",
       "      <td>B</td>\n",
       "      <td>9.5</td>\n",
       "      <td>Bom</td>\n",
       "    </tr>\n",
       "  </tbody>\n",
       "</table>\n",
       "</div>"
      ],
      "text/plain": [
       "   id  idade     renda          cidade categoria  nota feedback\n",
       "0   1   39.0  35157.99  Rio de Janeiro         A   6.1      Bom\n",
       "1   2   63.0   5500.66  Rio de Janeiro         B   7.2      Bom\n",
       "2   3   30.0  20004.05         Vitória         A   7.6      Bom\n",
       "3   4   50.0  37078.59         Vitória         B   5.9      Bom\n",
       "4   5   69.0  43751.21         Vitória         B   9.5      Bom"
      ]
     },
     "execution_count": 3,
     "metadata": {},
     "output_type": "execute_result"
    }
   ],
   "source": [
    "df.head()"
   ]
  },
  {
   "cell_type": "code",
   "execution_count": 4,
   "id": "16ea533e-7b5e-40b3-bcf1-e02367c2e634",
   "metadata": {},
   "outputs": [
    {
     "name": "stdout",
     "output_type": "stream",
     "text": [
      "<class 'pandas.core.frame.DataFrame'>\n",
      "RangeIndex: 2000 entries, 0 to 1999\n",
      "Data columns (total 7 columns):\n",
      " #   Column     Non-Null Count  Dtype  \n",
      "---  ------     --------------  -----  \n",
      " 0   id         2000 non-null   int64  \n",
      " 1   idade      1979 non-null   float64\n",
      " 2   renda      1984 non-null   float64\n",
      " 3   cidade     1978 non-null   object \n",
      " 4   categoria  1983 non-null   object \n",
      " 5   nota       1979 non-null   float64\n",
      " 6   feedback   1926 non-null   object \n",
      "dtypes: float64(3), int64(1), object(3)\n",
      "memory usage: 109.5+ KB\n"
     ]
    }
   ],
   "source": [
    "df.info()"
   ]
  },
  {
   "cell_type": "code",
   "execution_count": 5,
   "id": "5fea9b98-9115-4eb9-ac1c-7f60f03526cf",
   "metadata": {},
   "outputs": [
    {
     "data": {
      "text/html": [
       "<div>\n",
       "<style scoped>\n",
       "    .dataframe tbody tr th:only-of-type {\n",
       "        vertical-align: middle;\n",
       "    }\n",
       "\n",
       "    .dataframe tbody tr th {\n",
       "        vertical-align: top;\n",
       "    }\n",
       "\n",
       "    .dataframe thead th {\n",
       "        text-align: right;\n",
       "    }\n",
       "</style>\n",
       "<table border=\"1\" class=\"dataframe\">\n",
       "  <thead>\n",
       "    <tr style=\"text-align: right;\">\n",
       "      <th></th>\n",
       "      <th>id</th>\n",
       "      <th>idade</th>\n",
       "      <th>renda</th>\n",
       "      <th>nota</th>\n",
       "    </tr>\n",
       "  </thead>\n",
       "  <tbody>\n",
       "    <tr>\n",
       "      <th>count</th>\n",
       "      <td>2000.000000</td>\n",
       "      <td>1979.000000</td>\n",
       "      <td>1984.000000</td>\n",
       "      <td>1979.000000</td>\n",
       "    </tr>\n",
       "    <tr>\n",
       "      <th>mean</th>\n",
       "      <td>1000.500000</td>\n",
       "      <td>48.472966</td>\n",
       "      <td>24117.562757</td>\n",
       "      <td>7.436635</td>\n",
       "    </tr>\n",
       "    <tr>\n",
       "      <th>std</th>\n",
       "      <td>577.494589</td>\n",
       "      <td>20.156382</td>\n",
       "      <td>13463.354416</td>\n",
       "      <td>1.549939</td>\n",
       "    </tr>\n",
       "    <tr>\n",
       "      <th>min</th>\n",
       "      <td>1.000000</td>\n",
       "      <td>1.000000</td>\n",
       "      <td>476.210000</td>\n",
       "      <td>0.100000</td>\n",
       "    </tr>\n",
       "    <tr>\n",
       "      <th>25%</th>\n",
       "      <td>500.750000</td>\n",
       "      <td>31.000000</td>\n",
       "      <td>12481.857500</td>\n",
       "      <td>6.200000</td>\n",
       "    </tr>\n",
       "    <tr>\n",
       "      <th>50%</th>\n",
       "      <td>1000.500000</td>\n",
       "      <td>48.000000</td>\n",
       "      <td>23548.310000</td>\n",
       "      <td>7.500000</td>\n",
       "    </tr>\n",
       "    <tr>\n",
       "      <th>75%</th>\n",
       "      <td>1500.250000</td>\n",
       "      <td>66.000000</td>\n",
       "      <td>35705.365000</td>\n",
       "      <td>8.700000</td>\n",
       "    </tr>\n",
       "    <tr>\n",
       "      <th>max</th>\n",
       "      <td>2000.000000</td>\n",
       "      <td>118.000000</td>\n",
       "      <td>84390.130000</td>\n",
       "      <td>10.000000</td>\n",
       "    </tr>\n",
       "  </tbody>\n",
       "</table>\n",
       "</div>"
      ],
      "text/plain": [
       "                id        idade         renda         nota\n",
       "count  2000.000000  1979.000000   1984.000000  1979.000000\n",
       "mean   1000.500000    48.472966  24117.562757     7.436635\n",
       "std     577.494589    20.156382  13463.354416     1.549939\n",
       "min       1.000000     1.000000    476.210000     0.100000\n",
       "25%     500.750000    31.000000  12481.857500     6.200000\n",
       "50%    1000.500000    48.000000  23548.310000     7.500000\n",
       "75%    1500.250000    66.000000  35705.365000     8.700000\n",
       "max    2000.000000   118.000000  84390.130000    10.000000"
      ]
     },
     "execution_count": 5,
     "metadata": {},
     "output_type": "execute_result"
    }
   ],
   "source": [
    "df.describe()"
   ]
  },
  {
   "cell_type": "code",
   "execution_count": 6,
   "id": "84b52b9d-c827-4c1e-bd94-09b7024ea051",
   "metadata": {},
   "outputs": [],
   "source": [
    "Q1 = df['renda'].quantile(0.25)\n",
    "Q3 = df['renda'].quantile(0.75)\n",
    "IQR = Q3 - Q1\n",
    "limite_inferior = Q1 - 1.5 * IQR\n",
    "limite_superior = Q3 + 1.5 * IQR"
   ]
  },
  {
   "cell_type": "code",
   "execution_count": 7,
   "id": "628af50d-9437-4645-b2a8-94eec3ab45aa",
   "metadata": {},
   "outputs": [
    {
     "name": "stdout",
     "output_type": "stream",
     "text": [
      "\n",
      "\n",
      "\t IQR - Campo Renda\n",
      "\n",
      "\n",
      "Quartis -> Q1: 12481.86  ->  Q3: 35705.36\n",
      "IQR ----- 23223.5075\n",
      "Limites - Inf: -22353.40  -> Sup: 70540.63\n",
      "\n",
      "\n",
      "\n"
     ]
    }
   ],
   "source": [
    "print (f\"\\n\\n\\t IQR - Campo Renda\\n\\n\")\n",
    "print(f\"Quartis -> Q1: {Q1:-8.2f}  ->  Q3: {Q3:-8.2f}\")\n",
    "print(f\"IQR ----- {IQR}\")\n",
    "print(f\"Limites - Inf: {limite_inferior:-8.2f}  -> Sup: {limite_superior:-8.2f}\")\n",
    "print(f\"\\n\\n\")"
   ]
  },
  {
   "cell_type": "code",
   "execution_count": 8,
   "id": "e5555d2d-0cf7-47de-a5e6-8c876fe3d4cd",
   "metadata": {},
   "outputs": [
    {
     "name": "stdout",
     "output_type": "stream",
     "text": [
      "\n",
      "### Possíveis outliers em 'renda' ###\n",
      "\n",
      "        id  idade     renda          cidade categoria  nota feedback\n",
      "102    103    1.0  84390.13  Belo Horizonte         B   4.0      Bom\n",
      "1458  1459  113.0  83594.82       São Paulo         A   2.1      Bom\n",
      "1536  1537    1.0  83957.99       São Paulo         B   0.1      Bom\n",
      "\n"
     ]
    }
   ],
   "source": [
    "outliers = df[(df['renda'] < limite_inferior) | (df['renda'] > limite_superior)]\n",
    "print(f\"\\n### Possíveis outliers em 'renda' ###\\n\\n{outliers}\\n\")"
   ]
  },
  {
   "cell_type": "code",
   "execution_count": 9,
   "id": "2c79a458-3cf2-4381-81cc-f9cfe3effa73",
   "metadata": {},
   "outputs": [
    {
     "name": "stdout",
     "output_type": "stream",
     "text": [
      "id            0\n",
      "idade        21\n",
      "renda        16\n",
      "cidade       22\n",
      "categoria    17\n",
      "nota         21\n",
      "feedback     74\n",
      "dtype: int64\n"
     ]
    }
   ],
   "source": [
    "print(df.isnull().sum())"
   ]
  },
  {
   "cell_type": "code",
   "execution_count": 11,
   "id": "8ec1eec9-2c77-4c30-99c0-7215560ec382",
   "metadata": {},
   "outputs": [
    {
     "name": "stdout",
     "output_type": "stream",
     "text": [
      "Mediada das Idades 48.472966144517436\n",
      "Mediada das Notas 7.436634663971703\n",
      "Valor médio das Rendas 24117.56275705645 - 24117.56\n"
     ]
    }
   ],
   "source": [
    "mean_idade = df['idade'].mean()\n",
    "mean_renda = df['renda'].mean()\n",
    "mean_nota = df['nota'].mean()\n",
    "\n",
    "print(f\"Mediada das Idades {mean_idade}\")\n",
    "print(f\"Mediada das Notas {mean_nota}\")\n",
    "print(f\"Valor médio das Rendas {mean_renda} - {mean_renda:.2f}\")"
   ]
  },
  {
   "cell_type": "code",
   "execution_count": 12,
   "id": "8f053778-b91c-44bd-b5e4-5529624b7010",
   "metadata": {},
   "outputs": [],
   "source": [
    "df['idade'] = df['idade'].fillna(mean_idade)\n",
    "df['nota'] = df['nota'].fillna(mean_nota)\n",
    "df['renda'] = df['renda'].fillna(mean_renda)"
   ]
  },
  {
   "cell_type": "code",
   "execution_count": 13,
   "id": "ffc4d54e-0cb0-4473-b3e3-2ae3f90d3229",
   "metadata": {},
   "outputs": [
    {
     "name": "stdout",
     "output_type": "stream",
     "text": [
      "id            0\n",
      "idade         0\n",
      "renda         0\n",
      "cidade       22\n",
      "categoria    17\n",
      "nota          0\n",
      "feedback     74\n",
      "dtype: int64\n"
     ]
    }
   ],
   "source": [
    "print(df.isnull().sum())"
   ]
  },
  {
   "cell_type": "code",
   "execution_count": 14,
   "id": "f4ea35bb-5368-4ab8-97a3-3fe11086ae67",
   "metadata": {},
   "outputs": [],
   "source": [
    "df['cidade'] = df['cidade'].fillna(\"Desconhecido\")\n",
    "df['feedback'] = df['feedback'].fillna(\"Desconhecido\")\n",
    "df['categoria'] = df['categoria'].fillna(\"Desconhecido\")"
   ]
  },
  {
   "cell_type": "code",
   "execution_count": 15,
   "id": "4bfe4cbe-685c-4416-99c8-296086ccc7a8",
   "metadata": {},
   "outputs": [
    {
     "name": "stdout",
     "output_type": "stream",
     "text": [
      "id           0\n",
      "idade        0\n",
      "renda        0\n",
      "cidade       0\n",
      "categoria    0\n",
      "nota         0\n",
      "feedback     0\n",
      "dtype: int64\n"
     ]
    }
   ],
   "source": [
    "print(df.isnull().sum())"
   ]
  },
  {
   "cell_type": "code",
   "execution_count": 19,
   "id": "2844de7e-3eb5-4f70-9189-45f59cf5e183",
   "metadata": {},
   "outputs": [],
   "source": [
    "df.to_csv('dataset_sudeste_realista_outliers-2k-limpo.csv', index=False)"
   ]
  }
 ],
 "metadata": {
  "kernelspec": {
   "display_name": "Python ML (venv)",
   "language": "python",
   "name": "machine_learning"
  },
  "language_info": {
   "codemirror_mode": {
    "name": "ipython",
    "version": 3
   },
   "file_extension": ".py",
   "mimetype": "text/x-python",
   "name": "python",
   "nbconvert_exporter": "python",
   "pygments_lexer": "ipython3",
   "version": "3.10.5"
  }
 },
 "nbformat": 4,
 "nbformat_minor": 5
}
