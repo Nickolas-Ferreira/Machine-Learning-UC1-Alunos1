{
 "cells": [
  {
   "cell_type": "code",
   "execution_count": 2,
   "id": "f3098060-010c-493d-8388-88cca929ca05",
   "metadata": {},
   "outputs": [],
   "source": [
    "import pandas as pd\n",
    "import numpy as np\n",
    "import torch\n",
    "import torch.nn as nn\n",
    "import torch.optim as optim\n",
    "from sklearn.model_selection import train_test_split\n",
    "import matplotlib.pyplot as plt\n",
    "import seaborn as sns"
   ]
  },
  {
   "cell_type": "code",
   "execution_count": 3,
   "id": "b5760c1b-ccb1-40c4-bc82-7779904827a2",
   "metadata": {},
   "outputs": [
    {
     "name": "stdout",
     "output_type": "stream",
     "text": [
      "<class 'pandas.core.frame.DataFrame'>\n",
      "RangeIndex: 2000 entries, 0 to 1999\n",
      "Data columns (total 15 columns):\n",
      " #   Column                 Non-Null Count  Dtype  \n",
      "---  ------                 --------------  -----  \n",
      " 0   id                     2000 non-null   int64  \n",
      " 1   idade                  2000 non-null   float64\n",
      " 2   renda                  2000 non-null   float64\n",
      " 3   nota                   2000 non-null   float64\n",
      " 4   cidade_Belo Horizonte  2000 non-null   bool   \n",
      " 5   cidade_Desconhecido    2000 non-null   bool   \n",
      " 6   cidade_Rio de Janeiro  2000 non-null   bool   \n",
      " 7   cidade_São Paulo       2000 non-null   bool   \n",
      " 8   cidade_Vitória         2000 non-null   bool   \n",
      " 9   categoria_A            2000 non-null   bool   \n",
      " 10  categoria_B            2000 non-null   bool   \n",
      " 11  feedback_Bom           2000 non-null   bool   \n",
      " 12  feedback_Desconhecido  2000 non-null   bool   \n",
      " 13  feedback_Regular       2000 non-null   bool   \n",
      " 14  feedback_Ruim          2000 non-null   bool   \n",
      "dtypes: bool(11), float64(3), int64(1)\n",
      "memory usage: 84.1 KB\n"
     ]
    }
   ],
   "source": [
    "df = pd.read_csv(\"dataset_sudeste_simples_realista_outliers-2k-limpo-01-07.csv\")\n",
    "\n",
    "df.info ()\n"
   ]
  },
  {
   "cell_type": "code",
   "execution_count": 5,
   "id": "b3f3a73c-c13a-4dd5-a2d6-9dea0ef26b30",
   "metadata": {},
   "outputs": [],
   "source": [
    "features = df[['idade', 'renda', 'nota']]\n",
    "target   = df['feedback_Bom']\n",
    "\n",
    "X_train, X_test, y_train, y_test = train_test_split(features, target, \n",
    "                                                    test_size=0.3, random_state=42)"
   ]
  },
  {
   "cell_type": "code",
   "execution_count": 6,
   "id": "652d6486-f625-413e-955b-684dff32c510",
   "metadata": {},
   "outputs": [
    {
     "data": {
      "text/html": [
       "<div>\n",
       "<style scoped>\n",
       "    .dataframe tbody tr th:only-of-type {\n",
       "        vertical-align: middle;\n",
       "    }\n",
       "\n",
       "    .dataframe tbody tr th {\n",
       "        vertical-align: top;\n",
       "    }\n",
       "\n",
       "    .dataframe thead th {\n",
       "        text-align: right;\n",
       "    }\n",
       "</style>\n",
       "<table border=\"1\" class=\"dataframe\">\n",
       "  <thead>\n",
       "    <tr style=\"text-align: right;\">\n",
       "      <th></th>\n",
       "      <th>idade</th>\n",
       "      <th>renda</th>\n",
       "      <th>nota</th>\n",
       "    </tr>\n",
       "  </thead>\n",
       "  <tbody>\n",
       "    <tr>\n",
       "      <th>0</th>\n",
       "      <td>35.0</td>\n",
       "      <td>11669.80</td>\n",
       "      <td>0.3</td>\n",
       "    </tr>\n",
       "    <tr>\n",
       "      <th>1</th>\n",
       "      <td>28.0</td>\n",
       "      <td>12823.74</td>\n",
       "      <td>7.4</td>\n",
       "    </tr>\n",
       "    <tr>\n",
       "      <th>2</th>\n",
       "      <td>56.0</td>\n",
       "      <td>3537.12</td>\n",
       "      <td>0.6</td>\n",
       "    </tr>\n",
       "    <tr>\n",
       "      <th>3</th>\n",
       "      <td>19.0</td>\n",
       "      <td>4960.32</td>\n",
       "      <td>1.5</td>\n",
       "    </tr>\n",
       "    <tr>\n",
       "      <th>4</th>\n",
       "      <td>69.0</td>\n",
       "      <td>1645.34</td>\n",
       "      <td>3.7</td>\n",
       "    </tr>\n",
       "  </tbody>\n",
       "</table>\n",
       "</div>"
      ],
      "text/plain": [
       "   idade     renda  nota\n",
       "0   35.0  11669.80   0.3\n",
       "1   28.0  12823.74   7.4\n",
       "2   56.0   3537.12   0.6\n",
       "3   19.0   4960.32   1.5\n",
       "4   69.0   1645.34   3.7"
      ]
     },
     "execution_count": 6,
     "metadata": {},
     "output_type": "execute_result"
    }
   ],
   "source": [
    "features.head(5)"
   ]
  },
  {
   "cell_type": "code",
   "execution_count": 7,
   "id": "26f12192-6f4b-4ba3-8d15-247a6ab281c3",
   "metadata": {},
   "outputs": [
    {
     "data": {
      "text/plain": [
       "0    False\n",
       "1    False\n",
       "2    False\n",
       "3     True\n",
       "4    False\n",
       "Name: feedback_Bom, dtype: bool"
      ]
     },
     "execution_count": 7,
     "metadata": {},
     "output_type": "execute_result"
    }
   ],
   "source": [
    "target.head(5)"
   ]
  },
  {
   "cell_type": "code",
   "execution_count": 8,
   "id": "986a9981-43c5-49db-9146-eab1503fad0c",
   "metadata": {},
   "outputs": [
    {
     "data": {
      "text/html": [
       "<div>\n",
       "<style scoped>\n",
       "    .dataframe tbody tr th:only-of-type {\n",
       "        vertical-align: middle;\n",
       "    }\n",
       "\n",
       "    .dataframe tbody tr th {\n",
       "        vertical-align: top;\n",
       "    }\n",
       "\n",
       "    .dataframe thead th {\n",
       "        text-align: right;\n",
       "    }\n",
       "</style>\n",
       "<table border=\"1\" class=\"dataframe\">\n",
       "  <thead>\n",
       "    <tr style=\"text-align: right;\">\n",
       "      <th></th>\n",
       "      <th>idade</th>\n",
       "      <th>renda</th>\n",
       "      <th>nota</th>\n",
       "    </tr>\n",
       "  </thead>\n",
       "  <tbody>\n",
       "    <tr>\n",
       "      <th>836</th>\n",
       "      <td>48.0</td>\n",
       "      <td>4917.05</td>\n",
       "      <td>3.3</td>\n",
       "    </tr>\n",
       "    <tr>\n",
       "      <th>575</th>\n",
       "      <td>63.0</td>\n",
       "      <td>2285.17</td>\n",
       "      <td>2.3</td>\n",
       "    </tr>\n",
       "    <tr>\n",
       "      <th>557</th>\n",
       "      <td>26.0</td>\n",
       "      <td>11034.14</td>\n",
       "      <td>9.5</td>\n",
       "    </tr>\n",
       "    <tr>\n",
       "      <th>1235</th>\n",
       "      <td>41.0</td>\n",
       "      <td>1358.52</td>\n",
       "      <td>2.7</td>\n",
       "    </tr>\n",
       "    <tr>\n",
       "      <th>1360</th>\n",
       "      <td>39.0</td>\n",
       "      <td>11615.76</td>\n",
       "      <td>2.4</td>\n",
       "    </tr>\n",
       "  </tbody>\n",
       "</table>\n",
       "</div>"
      ],
      "text/plain": [
       "      idade     renda  nota\n",
       "836    48.0   4917.05   3.3\n",
       "575    63.0   2285.17   2.3\n",
       "557    26.0  11034.14   9.5\n",
       "1235   41.0   1358.52   2.7\n",
       "1360   39.0  11615.76   2.4"
      ]
     },
     "execution_count": 8,
     "metadata": {},
     "output_type": "execute_result"
    }
   ],
   "source": [
    "X_train.head(5)"
   ]
  },
  {
   "cell_type": "code",
   "execution_count": 9,
   "id": "0e663aa1-ff54-4467-894f-b9b2c97cd71e",
   "metadata": {},
   "outputs": [
    {
     "data": {
      "text/plain": [
       "836     False\n",
       "575     False\n",
       "557      True\n",
       "1235    False\n",
       "1360    False\n",
       "Name: feedback_Bom, dtype: bool"
      ]
     },
     "execution_count": 9,
     "metadata": {},
     "output_type": "execute_result"
    }
   ],
   "source": [
    "y_train.head(5)"
   ]
  },
  {
   "cell_type": "code",
   "execution_count": 10,
   "id": "0780a499-58d7-4ae2-b359-bfacba8fb613",
   "metadata": {},
   "outputs": [
    {
     "data": {
      "text/html": [
       "<div>\n",
       "<style scoped>\n",
       "    .dataframe tbody tr th:only-of-type {\n",
       "        vertical-align: middle;\n",
       "    }\n",
       "\n",
       "    .dataframe tbody tr th {\n",
       "        vertical-align: top;\n",
       "    }\n",
       "\n",
       "    .dataframe thead th {\n",
       "        text-align: right;\n",
       "    }\n",
       "</style>\n",
       "<table border=\"1\" class=\"dataframe\">\n",
       "  <thead>\n",
       "    <tr style=\"text-align: right;\">\n",
       "      <th></th>\n",
       "      <th>idade</th>\n",
       "      <th>renda</th>\n",
       "      <th>nota</th>\n",
       "    </tr>\n",
       "  </thead>\n",
       "  <tbody>\n",
       "    <tr>\n",
       "      <th>1860</th>\n",
       "      <td>21.0</td>\n",
       "      <td>5813.84</td>\n",
       "      <td>7.2</td>\n",
       "    </tr>\n",
       "    <tr>\n",
       "      <th>353</th>\n",
       "      <td>69.0</td>\n",
       "      <td>8147.77</td>\n",
       "      <td>8.6</td>\n",
       "    </tr>\n",
       "    <tr>\n",
       "      <th>1333</th>\n",
       "      <td>57.0</td>\n",
       "      <td>12126.80</td>\n",
       "      <td>3.5</td>\n",
       "    </tr>\n",
       "    <tr>\n",
       "      <th>905</th>\n",
       "      <td>65.0</td>\n",
       "      <td>11699.62</td>\n",
       "      <td>9.6</td>\n",
       "    </tr>\n",
       "    <tr>\n",
       "      <th>1289</th>\n",
       "      <td>57.0</td>\n",
       "      <td>6781.84</td>\n",
       "      <td>8.1</td>\n",
       "    </tr>\n",
       "  </tbody>\n",
       "</table>\n",
       "</div>"
      ],
      "text/plain": [
       "      idade     renda  nota\n",
       "1860   21.0   5813.84   7.2\n",
       "353    69.0   8147.77   8.6\n",
       "1333   57.0  12126.80   3.5\n",
       "905    65.0  11699.62   9.6\n",
       "1289   57.0   6781.84   8.1"
      ]
     },
     "execution_count": 10,
     "metadata": {},
     "output_type": "execute_result"
    }
   ],
   "source": [
    "X_test.head(5)"
   ]
  },
  {
   "cell_type": "code",
   "execution_count": 11,
   "id": "b4a69ad4-7cdb-49a1-b349-542c4f236def",
   "metadata": {},
   "outputs": [
    {
     "data": {
      "text/plain": [
       "1860    False\n",
       "353      True\n",
       "1333     True\n",
       "905     False\n",
       "1289    False\n",
       "Name: feedback_Bom, dtype: bool"
      ]
     },
     "execution_count": 11,
     "metadata": {},
     "output_type": "execute_result"
    }
   ],
   "source": [
    "y_test.head(5)"
   ]
  },
  {
   "cell_type": "code",
   "execution_count": 12,
   "id": "0c66f946-37a8-4c95-bff7-f3d03aeedceb",
   "metadata": {},
   "outputs": [],
   "source": [
    "X_train_t = torch.tensor(X_train.values, dtype=torch.float32)\n",
    "y_train_t = torch.tensor(y_train.values, dtype=torch.float32).view(-1, 1)\n",
    "\n",
    "X_test_t = torch.tensor(X_test.values, dtype=torch.float32)\n",
    "y_test_t = torch.tensor(y_test.values, dtype=torch.float32).view(-1, 1)"
   ]
  },
  {
   "cell_type": "code",
   "execution_count": 13,
   "id": "89b1e8a6-9385-4943-a6e6-869b6d50ccdf",
   "metadata": {},
   "outputs": [
    {
     "name": "stdout",
     "output_type": "stream",
     "text": [
      "torch.Size([1400, 3])\n",
      "torch.Size([1400, 1])\n"
     ]
    }
   ],
   "source": [
    "print(X_train_t.shape) \n",
    "print(y_train_t.shape) "
   ]
  },
  {
   "cell_type": "code",
   "execution_count": 14,
   "id": "6d3ebb59-feb8-40e5-92db-4d01cb722ca0",
   "metadata": {},
   "outputs": [
    {
     "data": {
      "text/plain": [
       "tensor([[4.8000e+01, 4.9170e+03, 3.3000e+00],\n",
       "        [6.3000e+01, 2.2852e+03, 2.3000e+00],\n",
       "        [2.6000e+01, 1.1034e+04, 9.5000e+00],\n",
       "        [4.1000e+01, 1.3585e+03, 2.7000e+00],\n",
       "        [3.9000e+01, 1.1616e+04, 2.4000e+00]])"
      ]
     },
     "execution_count": 14,
     "metadata": {},
     "output_type": "execute_result"
    }
   ],
   "source": [
    "X_train_t[0:5]"
   ]
  },
  {
   "cell_type": "code",
   "execution_count": 15,
   "id": "942fefe9-bc68-403d-a34d-565669c37745",
   "metadata": {},
   "outputs": [
    {
     "data": {
      "text/plain": [
       "tensor([[0.],\n",
       "        [0.],\n",
       "        [1.],\n",
       "        [0.],\n",
       "        [0.]])"
      ]
     },
     "execution_count": 15,
     "metadata": {},
     "output_type": "execute_result"
    }
   ],
   "source": [
    "y_train_t[0:5]"
   ]
  },
  {
   "cell_type": "code",
   "execution_count": 16,
   "id": "dd83bf33-7fd1-4158-9e4e-e890a0d9b1a8",
   "metadata": {},
   "outputs": [
    {
     "data": {
      "text/plain": [
       "tensor([[2.1000e+01, 5.8138e+03, 7.2000e+00],\n",
       "        [6.9000e+01, 8.1478e+03, 8.6000e+00],\n",
       "        [5.7000e+01, 1.2127e+04, 3.5000e+00],\n",
       "        [6.5000e+01, 1.1700e+04, 9.6000e+00],\n",
       "        [5.7000e+01, 6.7818e+03, 8.1000e+00]])"
      ]
     },
     "execution_count": 16,
     "metadata": {},
     "output_type": "execute_result"
    }
   ],
   "source": [
    "X_test_t[0:5]"
   ]
  },
  {
   "cell_type": "code",
   "execution_count": 17,
   "id": "14a612e4-adb8-47c7-b0b1-c16615362ee2",
   "metadata": {},
   "outputs": [
    {
     "data": {
      "text/plain": [
       "tensor([[0.],\n",
       "        [1.],\n",
       "        [1.],\n",
       "        [0.],\n",
       "        [0.]])"
      ]
     },
     "execution_count": 17,
     "metadata": {},
     "output_type": "execute_result"
    }
   ],
   "source": [
    "y_test_t[0:5]"
   ]
  },
  {
   "cell_type": "code",
   "execution_count": 18,
   "id": "88443aa8-09fe-40ba-b4af-a9ddb7ddcf0e",
   "metadata": {},
   "outputs": [],
   "source": [
    "class SimpleNet(nn.Module):\n",
    "    \n",
    "    def __init__(self, input_dim):\n",
    "        super(SimpleNet, self).__init__()\n",
    "        self.linear1 = nn.Linear(input_dim, 8)\n",
    "        self.relu    = nn.ReLU()\n",
    "        self.linear2 = nn.Linear(8, 1)\n",
    "\n",
    "    def forward(self, x):\n",
    "        x = self.linear1(x)\n",
    "        x = self.relu(x)\n",
    "        x = self.linear2(x)\n",
    "        return x"
   ]
  },
  {
   "cell_type": "code",
   "execution_count": 19,
   "id": "a0969749-f161-4809-a102-9237368d0d72",
   "metadata": {},
   "outputs": [
    {
     "data": {
      "text/plain": [
       "3"
      ]
     },
     "execution_count": 19,
     "metadata": {},
     "output_type": "execute_result"
    }
   ],
   "source": [
    "# Quantidade de colunas em X\n",
    "X_train_t.shape[1] "
   ]
  },
  {
   "cell_type": "code",
   "execution_count": 20,
   "id": "042a637e-e431-4de0-8361-8f1f16f750c3",
   "metadata": {},
   "outputs": [],
   "source": [
    "# Cria um modelo que aceita uma matriz de 3 colunas\n",
    "input_dim = X_train_t.shape[1]  \n",
    "model = SimpleNet(input_dim)"
   ]
  },
  {
   "cell_type": "code",
   "execution_count": 21,
   "id": "efb37db0-9005-4a8e-826b-6e34c8903c0d",
   "metadata": {},
   "outputs": [
    {
     "name": "stdout",
     "output_type": "stream",
     "text": [
      "SimpleNet(\n",
      "  (linear1): Linear(in_features=3, out_features=8, bias=True)\n",
      "  (relu): ReLU()\n",
      "  (linear2): Linear(in_features=8, out_features=1, bias=True)\n",
      ")\n"
     ]
    }
   ],
   "source": [
    "# Imprime a estrutura do modelo\n",
    "print(model)"
   ]
  },
  {
   "cell_type": "code",
   "execution_count": 22,
   "id": "95c6b026-bca9-4d38-aaed-e0beee5f0b1d",
   "metadata": {},
   "outputs": [],
   "source": [
    "criterion = nn.BCEWithLogitsLoss()\n",
    "optimizer = optim.Adam(model.parameters(), lr=0.01)"
   ]
  },
  {
   "cell_type": "code",
   "execution_count": 23,
   "id": "739e6c50-2072-42b7-a698-2ef916880c90",
   "metadata": {},
   "outputs": [
    {
     "name": "stdout",
     "output_type": "stream",
     "text": [
      "Época [2/100], Perda Treino: 1982.3121\n",
      "Época [4/100], Perda Treino: 1670.6949\n",
      "Época [6/100], Perda Treino: 1385.3756\n",
      "Época [8/100], Perda Treino: 1122.3668\n",
      "Época [10/100], Perda Treino: 875.5829\n",
      "Época [12/100], Perda Treino: 643.9598\n",
      "Época [14/100], Perda Treino: 425.6485\n",
      "Época [16/100], Perda Treino: 218.0807\n",
      "Época [18/100], Perda Treino: 18.8882\n",
      "Época [20/100], Perda Treino: 84.1752\n",
      "Época [22/100], Perda Treino: 145.9890\n",
      "Época [24/100], Perda Treino: 181.8850\n",
      "Época [26/100], Perda Treino: 197.2404\n",
      "Época [28/100], Perda Treino: 196.6199\n",
      "Época [30/100], Perda Treino: 183.8403\n",
      "Época [32/100], Perda Treino: 162.0372\n",
      "Época [34/100], Perda Treino: 133.7381\n",
      "Época [36/100], Perda Treino: 100.9354\n",
      "Época [38/100], Perda Treino: 65.1547\n",
      "Época [40/100], Perda Treino: 27.5179\n",
      "Época [42/100], Perda Treino: 21.2078\n",
      "Época [44/100], Perda Treino: 58.8974\n",
      "Época [46/100], Perda Treino: 58.6154\n",
      "Época [48/100], Perda Treino: 29.1342\n",
      "Época [50/100], Perda Treino: 11.5836\n",
      "Época [52/100], Perda Treino: 30.3688\n",
      "Época [54/100], Perda Treino: 37.4078\n",
      "Época [56/100], Perda Treino: 34.8587\n",
      "Época [58/100], Perda Treino: 24.5759\n",
      "Época [60/100], Perda Treino: 8.1282\n",
      "Época [62/100], Perda Treino: 15.2133\n",
      "Época [64/100], Perda Treino: 13.5556\n",
      "Época [66/100], Perda Treino: 6.9448\n",
      "Época [68/100], Perda Treino: 14.7102\n",
      "Época [70/100], Perda Treino: 13.0058\n",
      "Época [72/100], Perda Treino: 3.5868\n",
      "Época [74/100], Perda Treino: 12.4565\n",
      "Época [76/100], Perda Treino: 3.2192\n",
      "Época [78/100], Perda Treino: 9.9103\n",
      "Época [80/100], Perda Treino: 10.4791\n",
      "Época [82/100], Perda Treino: 2.8772\n",
      "Época [84/100], Perda Treino: 10.7962\n",
      "Época [86/100], Perda Treino: 1.9821\n",
      "Época [88/100], Perda Treino: 7.3061\n",
      "Época [90/100], Perda Treino: 3.9115\n",
      "Época [92/100], Perda Treino: 5.3603\n",
      "Época [94/100], Perda Treino: 3.6164\n",
      "Época [96/100], Perda Treino: 4.2321\n",
      "Época [98/100], Perda Treino: 4.3899\n",
      "Época [100/100], Perda Treino: 2.3139\n"
     ]
    }
   ],
   "source": [
    "# Qt de fases de treinamenro\n",
    "epochs = 100\n",
    "# Lista para guardar o valor da loss em cada época\n",
    "losses = []  \n",
    "\n",
    "for epoch in range(epochs):\n",
    "    # forward\n",
    "    ## faz a predição com base nos dados de entrada\n",
    "    outputs = model(X_train_t)\n",
    "    \n",
    "    ## compara essas previsões com os verdadeiros rótulos (y_train_t) e calcula o erro (loss)\n",
    "    loss = criterion(outputs, y_train_t)\n",
    "\n",
    "    # backward\n",
    "    ## Zera os gradientes acumulados nas etapas anteriores\n",
    "    ## Se não zerar, os gradientes vão se somar e causar atualizações erradas nos pesos\n",
    "    optimizer.zero_grad()\n",
    "\n",
    "    ## Faz o cálculo dos gradientes de erro em relação aos pesos do modelo\n",
    "    ## É o coração do backpropagation    \n",
    "    loss.backward()\n",
    "\n",
    "    ## Usa os gradientes calculados para atualizar os pesos do modelo\n",
    "    ## O otimizador (Adam, neste caso) decide como ajustar os pesos\n",
    "    optimizer.step()\n",
    "\n",
    "    # Armazenar loss\n",
    "    losses.append(loss.item())\n",
    "\n",
    "    # imprimir estatísticas\n",
    "    if (epoch+1) % 2 == 0:\n",
    "        print(f\"Época [{epoch+1}/{epochs}], Perda Treino: {loss.item():.4f}\")"
   ]
  },
  {
   "cell_type": "code",
   "execution_count": 24,
   "id": "9c8ccd78-300c-4ed0-acb9-032fb329221e",
   "metadata": {},
   "outputs": [
    {
     "data": {
      "image/png": "[encoded data removed]",
      "text/plain": [
       "<Figure size 640x480 with 1 Axes>"
      ]
     },
     "metadata": {},
     "output_type": "display_data"
    }
   ],
   "source": [
    "# ----------------------------------------------------------\n",
    "# 8) GERAR GRÁFICO DA PERDA AO LONGO DAS ÉPOCAS\n",
    "# ----------------------------------------------------------\n",
    "plt.plot(losses)\n",
    "plt.title(\"Perda durante o treinamento\")\n",
    "plt.xlabel(\"Época\")\n",
    "plt.ylabel(\"Loss (Erro)\")\n",
    "plt.grid(True)\n",
    "plt.show()"
   ]
  },
  {
   "cell_type": "code",
   "execution_count": 25,
   "id": "612ea787-dbf4-4dc4-ae08-365600086064",
   "metadata": {},
   "outputs": [
    {
     "name": "stdout",
     "output_type": "stream",
     "text": [
      "Qtd de Elementos  : 397.00\n",
      "Qtd de Acertos    : 600.00\n",
      "Acurácia no teste :  66.17%\n"
     ]
    }
   ],
   "source": [
    "with torch.no_grad():\n",
    "\n",
    "    # Submete os dados de teste ao modelo\n",
    "    logits_test = model(X_test_t)\n",
    "    #print (logits_test)\n",
    "    \n",
    "    # Transformar logits em probabilidades [0..1]\n",
    "    probs_test = torch.sigmoid(logits_test)\n",
    "    #print (probs_test)\n",
    "\n",
    "    # prob > 0.5 => classe = 1 (Bom)\n",
    "    #print ((probs_test > 0.5).float())\n",
    "\n",
    "    # Verifica a probabilidade é maior que 0.5\n",
    "    # se for atribui 1, senão 0 \n",
    "    preds_test = (probs_test > 0.5).float()\n",
    "\n",
    "    # Verifica o total de acertos\n",
    "    acertos = (preds_test == y_test_t).sum().item()\n",
    "\n",
    "    # Verifica a quantidade de elementos do grupo de teste\n",
    "    total = y_test_t.shape[0]\n",
    "\n",
    "    # calcula a taxa de acerto\n",
    "    acuracia_test = acertos / total * 100.0\n",
    "\n",
    "print(f\"Qtd de Elementos  : {acertos:-6.2f}\")\n",
    "print(f\"Qtd de Acertos    : {total:-6.2f}\")\n",
    "print(f\"Acurácia no teste : {acuracia_test:-6.2f}%\")"
   ]
  },
  {
   "cell_type": "code",
   "execution_count": null,
   "id": "c875feda-3154-4f25-8490-de54bde484be",
   "metadata": {},
   "outputs": [],
   "source": []
  }
 ],
 "metadata": {
  "kernelspec": {
   "display_name": "Python ML (venv)",
   "language": "python",
   "name": "machine_learning"
  },
  "language_info": {
   "codemirror_mode": {
    "name": "ipython",
    "version": 3
   },
   "file_extension": ".py",
   "mimetype": "text/x-python",
   "name": "python",
   "nbconvert_exporter": "python",
   "pygments_lexer": "ipython3",
   "version": "3.10.5"
  }
 },
 "nbformat": 4,
 "nbformat_minor": 5
}
