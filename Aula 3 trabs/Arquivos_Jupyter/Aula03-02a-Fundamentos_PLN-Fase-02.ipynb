{
 "cells": [
  {
   "cell_type": "markdown",
   "id": "63c90ea5-5c38-4d5b-a306-febc709276dd",
   "metadata": {},
   "source": [
    "# Processamento de Linguagem Natural (PLN)"
   ]
  },
  {
   "cell_type": "markdown",
   "id": "ca628417-7783-4719-9846-158fdc7597ce",
   "metadata": {},
   "source": [
    "## **5. Modelos de Aprendizado de Máquina no PLN**"
   ]
  },
  {
   "cell_type": "markdown",
   "id": "97a69a18-61b2-4db4-b083-166dbe85858e",
   "metadata": {},
   "source": [
    "Com os vetores criados, podemos aplicar modelos de **Machine Learning** para tarefas como:\n",
    "\n",
    "- Classificação de textos\n",
    "- Detecção de sentimento\n",
    "- Sumarização\n",
    "- Geração de texto"
   ]
  },
  {
   "cell_type": "markdown",
   "id": "9a8b5b48-d512-4058-921f-ccbc405109d9",
   "metadata": {},
   "source": [
    "### **5.1 Exemplo Simples: Classificação de Sentimento**\n",
    "- Este código implementa um classificador de sentimentos simples em português usando técnicas de processamento de linguagem natural (PLN) e aprendizado de máquina"
   ]
  },
  {
   "cell_type": "markdown",
   "id": "3cffe3f6-7e3b-4f1a-8c76-70cae6dbe543",
   "metadata": {},
   "source": [
    "#### 🐍 Código - Carregando as Bibliotecas"
   ]
  },
  {
   "cell_type": "code",
   "execution_count": 1,
   "id": "a3313f25-86ee-475d-92fa-1bf8b227f687",
   "metadata": {},
   "outputs": [],
   "source": [
    "# 1. Importar as bibliotecas necessárias\n",
    "import nltk\n",
    "from nltk.corpus import stopwords\n",
    "from nltk.tokenize import word_tokenize\n",
    "import re\n",
    "from sklearn.feature_extraction.text import TfidfVectorizer\n",
    "from sklearn.model_selection import train_test_split\n",
    "from sklearn.pipeline import make_pipeline\n",
    "from sklearn.naive_bayes import MultinomialNB\n",
    "from sklearn.metrics import accuracy_score, classification_report\n"
   ]
  },
  {
   "cell_type": "markdown",
   "id": "03aa6882-4d54-4e1a-b817-2333d47af119",
   "metadata": {},
   "source": [
    "#### 🔖 Explicações"
   ]
  },
  {
   "cell_type": "markdown",
   "id": "3e18d96a-bb4f-4504-9b42-e486132c5d78",
   "metadata": {},
   "source": [
    "1. **Importação de Bibliotecas**\n",
    "- **nltk**: Para tokenização e remoção de stopwords.\n",
    "- **re**: Para limpeza de texto com expressões regulares.\n",
    "- **sklearn**: Para vetorização (TfidfVectorizer, mas usa CountVectorizer no pipeline), divisão de dados, pipeline, modelo Naive Bayes e métricas de avaliação."
   ]
  },
  {
   "cell_type": "markdown",
   "id": "8af8abb9-f17d-4d4e-839f-2919febaf333",
   "metadata": {},
   "source": [
    "#### 🐍 Código - Download de Recursos"
   ]
  },
  {
   "cell_type": "code",
   "execution_count": 2,
   "id": "1d7f03f4-6ff7-40aa-bdb0-9a970fdd9315",
   "metadata": {},
   "outputs": [
    {
     "name": "stderr",
     "output_type": "stream",
     "text": [
      "[nltk_data] Downloading package punkt to\n",
      "[nltk_data]     C:\\Users\\nickolas.sa\\AppData\\Roaming\\nltk_data...\n",
      "[nltk_data]   Package punkt is already up-to-date!\n",
      "[nltk_data] Downloading package stopwords to\n",
      "[nltk_data]     C:\\Users\\nickolas.sa\\AppData\\Roaming\\nltk_data...\n",
      "[nltk_data]   Package stopwords is already up-to-date!\n"
     ]
    },
    {
     "data": {
      "text/plain": [
       "True"
      ]
     },
     "execution_count": 2,
     "metadata": {},
     "output_type": "execute_result"
    }
   ],
   "source": [
    "# 2. Garantir que recursos da NLTK estão baixados\n",
    "nltk.download('punkt')\n",
    "nltk.download('stopwords')"
   ]
  },
  {
   "cell_type": "markdown",
   "id": "073182d0-d8f7-4358-af08-2c3a15885fc7",
   "metadata": {},
   "source": [
    "#### 🔖 Explicações"
   ]
  },
  {
   "cell_type": "markdown",
   "id": "2ac6688f-dfe0-44b1-8edd-4507ffb3605e",
   "metadata": {},
   "source": [
    "2. Download de Recursos da NLTK\n",
    "- **punkt**: Ferramenta de tokenização.\n",
    "- **stopwords**: Lista de palavras comuns em português (ex.: \"e\", \"ou\") a serem removidas."
   ]
  },
  {
   "cell_type": "markdown",
   "id": "bb095ff6-96d6-4d54-a313-78beccfe0f25",
   "metadata": {},
   "source": [
    "#### 🐍 Código - Obtendo/Gerando dados"
   ]
  },
  {
   "cell_type": "code",
   "execution_count": 3,
   "id": "4d1ca207-54fd-48c9-958f-70e7d1f7ffe6",
   "metadata": {},
   "outputs": [
    {
     "name": "stdout",
     "output_type": "stream",
     "text": [
      "\n",
      "\n",
      "Dados: \n",
      "\t[('Eu amo programar em Python!', 'positivo'), ('Python é incrível e muito útil.', 'positivo'), ('Adorei este tutorial!', 'positivo')]\n",
      "\n"
     ]
    }
   ],
   "source": [
    "# 3. Dataset artificial para classificação de sentimentos\n",
    "# Cada texto tem uma etiqueta: 'positivo' ou 'negativo'\n",
    "dados = [\n",
    "    (\"Eu amo programar em Python!\", \"positivo\"),\n",
    "    (\"Python é incrível e muito útil.\", \"positivo\"),\n",
    "    (\"Adorei este tutorial!\", \"positivo\"),\n",
    "    (\"Não gosto desse sistema.\", \"negativo\"),\n",
    "    (\"Essa experiência foi horrível.\", \"negativo\"),\n",
    "    (\"Nunca mais usarei esse produto.\", \"negativo\"),\n",
    "    (\"O suporte foi rápido e eficiente.\", \"positivo\"),\n",
    "    (\"Tudo funciona bem aqui.\", \"positivo\"),\n",
    "    (\"A interface é confusa.\", \"negativo\"),\n",
    "    (\"Estou decepcionado.\", \"negativo\"),\n",
    "    (\"Adorei o filme!\", \"positivo\"),\n",
    "    (\"Muito bom!\",\"positivo\" ),\n",
    "    (\"Excelente serviço!\", \"positivo\"),\n",
    "    (\"Recomendo muito!\", \"positivo\"),\n",
    "    (\"Ótima qualidade!\", \"positivo\"),\n",
    "    (\"Maravilhoso!\", \"positivo\"),\n",
    "    (\"Fantástico!\", \"positivo\"),\n",
    "    (\"Incrível experiência!\", \"positivo\"),\n",
    "    (\"Perfeito!\", \"positivo\"), \n",
    "    (\"Surpreendente!\", \"positivo\"),\n",
    "    (\"Vale cada centavo!\", \"positivo\"),\n",
    "    (\"Impecável!\", \"positivo\"),\n",
    "    (\"Nota 10!\", \"positivo\"),\n",
    "    (\"Superou expectativas!\", \"positivo\"),\n",
    "    (\"Encantado!\",\"positivo\"),\n",
    "    (\"Sensacional!\", \"positivo\"),\n",
    "    (\"Estou impressionado!\", \"positivo\"),\n",
    "    (\"Melhor que esperava!\", \"positivo\"),\n",
    "    (\"Divertido demais!\", \"positivo\"),\n",
    "    (\"Amei!\",\"positivo\"),\n",
    "    (\"Top de linha!\", \"positivo\"),\n",
    "    (\"Simplesmente perfeito!\", \"positivo\"),\n",
    "    (\"Recomendo sem dúvidas!\", \"positivo\"),\n",
    "    (\"Produto excelente!\", \"positivo\"),\n",
    "    (\"Atendimento maravilhoso!\",\"positivo\"),\n",
    "    (\"Muito chato.\", \"negativo\"), \n",
    "    (\"Péssimo filme.\", \"negativo\"), \n",
    "    (\"Horrível experiência.\", \"negativo\"), \n",
    "    (\"Não recomendo.\", \"negativo\"), \n",
    "    (\"Terrível.\", \"negativo\"), \n",
    "    (\"Desapontado.\", \"negativo\"), \n",
    "    (\"Ruim demais.\", \"negativo\"), \n",
    "    (\"Lamentável.\", \"negativo\"), \n",
    "    (\"Fraco.\", \"negativo\"), \n",
    "    (\"Decepcionante.\", \"negativo\"), \n",
    "    (\"Perda de tempo.\", \"negativo\"), \n",
    "    (\"Não vale o preço.\", \"negativo\"), \n",
    "    (\"Horroroso.\", \"negativo\"), \n",
    "    (\"Péssimo atendimento.\", \"negativo\"), \n",
    "    (\"Arrependido.\", \"negativo\"), \n",
    "    (\"Muito ruim.\", \"negativo\"), \n",
    "    (\"Nunca mais compro.\", \"negativo\"), \n",
    "    (\"Qualidade inferior.\", \"negativo\"), \n",
    "    (\"Não funciona.\", \"negativo\"), \n",
    "    (\"Enganação.\", \"negativo\"), \n",
    "    (\"Pior experiência.\", \"negativo\"), \n",
    "    (\"Tive problemas.\", \"negativo\"), \n",
    "    (\"Não atendeu expectativas.\", \"negativo\"), \n",
    "    (\"Fiquei insatisfeito.\", \"negativo\"), \n",
    "    (\"Produto defeituoso.\", \"negativo\"),     \n",
    "]\n",
    "\n",
    "print(f\"\\n\\nDados: \\n\\t{dados[0:3]}\\n\")"
   ]
  },
  {
   "cell_type": "markdown",
   "id": "03278404-bd69-4435-9eff-c9f0c993586d",
   "metadata": {},
   "source": [
    "#### 🔖 Explicações"
   ]
  },
  {
   "cell_type": "markdown",
   "id": "8ced229e-8398-46a9-9630-6ff19e30e2b0",
   "metadata": {},
   "source": [
    "**3. Dataset Artificial**\n",
    "- Uma lista de tuplas com textos e rótulos (\"positivo\" ou \"negativo\"), como \"Eu amo programar em Python!\" (positivo) e \"Não gosto desse sistema.\" (negativo)."
   ]
  },
  {
   "cell_type": "markdown",
   "id": "30a0a114-b727-4d78-aa86-1f20df6519bf",
   "metadata": {},
   "source": [
    "#### 🐍 Código - Separando os dados"
   ]
  },
  {
   "cell_type": "code",
   "execution_count": 4,
   "id": "ca81633a-e16f-431b-8619-4db214c34dd2",
   "metadata": {},
   "outputs": [],
   "source": [
    "# 4. Separar textos e rótulos\n",
    "textos = [t[0] for t in dados]\n",
    "rotulos = [t[1] for t in dados]\n"
   ]
  },
  {
   "cell_type": "markdown",
   "id": "b4e41e6c-1be5-48c5-b4ac-72aa46233640",
   "metadata": {},
   "source": [
    "#### 🔖 Explicações"
   ]
  },
  {
   "cell_type": "markdown",
   "id": "94db3ef7-b6d9-4076-8713-86bf6cb6582e",
   "metadata": {},
   "source": [
    "**4. Separação de Textos e Rótulos**\n",
    "- Extrai textos e rótulos do dataset em listas separadas usando list comprehensions."
   ]
  },
  {
   "cell_type": "markdown",
   "id": "6204ea56-ad9a-46d2-be3f-02e4fc0f14af",
   "metadata": {},
   "source": [
    "#### 🐍 Código - Função de pré-processamento"
   ]
  },
  {
   "cell_type": "code",
   "execution_count": 5,
   "id": "9e4fbeb1-d0ff-4405-8850-53a22bd3b417",
   "metadata": {},
   "outputs": [],
   "source": [
    "# 5. Função de pré-processamento\n",
    "def preprocessar(texto):\n",
    "    # Remover pontuação e caracteres não alfanuméricos\n",
    "    texto = re.sub(r'[^\\w\\s]', '', texto)\n",
    "\n",
    "    # Tokenização\n",
    "    tokens = word_tokenize(texto.lower())\n",
    "\n",
    "    # Remover stopwords\n",
    "    stop_words = set(stopwords.words('portuguese'))\n",
    "    tokens_filtrados = [t for t in tokens if t not in stop_words]\n",
    "\n",
    "    # retorna os dados processados\n",
    "    return ' '.join(tokens_filtrados)"
   ]
  },
  {
   "cell_type": "markdown",
   "id": "f12e8fd3-efb5-4eaf-be80-c304b53a315b",
   "metadata": {},
   "source": [
    "#### 🔖 Explicações"
   ]
  },
  {
   "cell_type": "markdown",
   "id": "ca349581-9302-438e-92b8-4c7fcfb635d1",
   "metadata": {},
   "source": [
    "**5. Função de Pré-processamento**\n",
    "- **Limpa o texto**:\n",
    "    - Remove pontuação e caracteres não alfanuméricos.\n",
    "    - Converte para minúsculas.\n",
    "    - Tokeniza (divide em palavras).\n",
    "    - Remove stopwords.\n",
    "    - Junta as palavras em uma string novamente."
   ]
  },
  {
   "cell_type": "markdown",
   "id": "d628c0a4-5d32-42ae-b076-65fe53642aa8",
   "metadata": {},
   "source": [
    "#### 🐍 Código - realizando o pré-processamento"
   ]
  },
  {
   "cell_type": "code",
   "execution_count": 6,
   "id": "75e3f22c-327c-4350-aa0a-c87b4851f0ab",
   "metadata": {},
   "outputs": [],
   "source": [
    "# 6. Aplicar pré-processamento\n",
    "textos_limpos = [preprocessar(t) for t in textos]"
   ]
  },
  {
   "cell_type": "markdown",
   "id": "96878fe6-b2f6-44ee-9b51-f4bc49369678",
   "metadata": {},
   "source": [
    "#### 🔖 Explicações"
   ]
  },
  {
   "cell_type": "markdown",
   "id": "12ae2835-75bb-45eb-9a7b-05a23888d25c",
   "metadata": {},
   "source": [
    "**6. Aplicação do Pré-processamento**\n",
    "- Aplica a função de pré-processamento a todos os textos, gerando uma lista de textos limpos."
   ]
  },
  {
   "cell_type": "markdown",
   "id": "204cb48b-48b9-45c7-a423-625390808548",
   "metadata": {},
   "source": [
    "#### 🐍 Código - Separando os dados de treino e teste"
   ]
  },
  {
   "cell_type": "code",
   "execution_count": 7,
   "id": "573a1418-c4ec-4a74-bef3-50529147d5c9",
   "metadata": {},
   "outputs": [],
   "source": [
    "# 7. Dividir em treino e teste\n",
    "X_treino, X_teste, y_treino, y_teste = train_test_split(textos_limpos, rotulos, test_size=0.2, random_state=42)"
   ]
  },
  {
   "cell_type": "markdown",
   "id": "2466798f-5f57-45af-a977-beb5167dd5a2",
   "metadata": {},
   "source": [
    "#### 🔖 Explicações"
   ]
  },
  {
   "cell_type": "markdown",
   "id": "b303607a-a5ba-46e8-a2b8-3b244a7b5545",
   "metadata": {},
   "source": [
    "**7. Divisão em Treino e Teste**\n",
    "- Divide os dados em 80% para treino e 20% para teste com train_test_split, usando random_state=42 para reprodutibilidade."
   ]
  },
  {
   "cell_type": "markdown",
   "id": "c566d9d1-7312-4826-bccc-e7a53641e6e0",
   "metadata": {},
   "source": [
    "#### 🐍 Código"
   ]
  },
  {
   "cell_type": "code",
   "execution_count": 8,
   "id": "3931c284-5419-410e-96b8-5bba4c20f841",
   "metadata": {},
   "outputs": [
    {
     "ename": "NameError",
     "evalue": "name 'CountVectorizer' is not defined",
     "output_type": "error",
     "traceback": [
      "\u001b[1;31m---------------------------------------------------------------------------\u001b[0m",
      "\u001b[1;31mNameError\u001b[0m                                 Traceback (most recent call last)",
      "Cell \u001b[1;32mIn[8], line 2\u001b[0m\n\u001b[0;32m      1\u001b[0m \u001b[38;5;66;03m# 8. Treinar o modelo (Multinomial Naive Bayes)\u001b[39;00m\n\u001b[1;32m----> 2\u001b[0m modelo \u001b[38;5;241m=\u001b[39m make_pipeline(\u001b[43mCountVectorizer\u001b[49m(), MultinomialNB())\n\u001b[0;32m      3\u001b[0m modelo\u001b[38;5;241m.\u001b[39mfit(X_treino, y_treino)\n",
      "\u001b[1;31mNameError\u001b[0m: name 'CountVectorizer' is not defined"
     ]
    }
   ],
   "source": [
    "# 8. Treinar o modelo (Multinomial Naive Bayes)\n",
    "modelo = make_pipeline(CountVectorizer(), MultinomialNB())\n",
    "modelo.fit(X_treino, y_treino)"
   ]
  },
  {
   "cell_type": "markdown",
   "id": "7234e4fd-a15b-48af-892a-941966497a8d",
   "metadata": {},
   "source": [
    "#### 🔖 Explicações"
   ]
  },
  {
   "cell_type": "markdown",
   "id": "9b944ec5-8d7e-422c-859e-d5841e81f08f",
   "metadata": {},
   "source": [
    "**8. Treinamento do Modelo**\n",
    "- Cria um pipeline com:\n",
    "    - CountVectorizer: Transforma textos em vetores de contagem de palavras.\n",
    "    - MultinomialNB: Classificador Naive Bayes para dados de contagem.\n",
    "- Treina o modelo com os dados de treino."
   ]
  },
  {
   "cell_type": "markdown",
   "id": "730edc4a-7d82-41b3-bcc5-193d0d920d04",
   "metadata": {},
   "source": [
    "#### 🐍 Código"
   ]
  },
  {
   "cell_type": "code",
   "execution_count": null,
   "id": "567a0e2e-2049-4ab8-82fc-a221d7cc40bd",
   "metadata": {},
   "outputs": [],
   "source": [
    "# 9. Fazer previsões\n",
    "y_pred = modelo.predict(X_teste)"
   ]
  },
  {
   "cell_type": "markdown",
   "id": "fde88782-5237-472c-ba71-88d3d73520bf",
   "metadata": {},
   "source": [
    "#### 🔖 Explicações"
   ]
  },
  {
   "cell_type": "markdown",
   "id": "a5b5bacd-bea8-44b8-8f1c-a546567c5747",
   "metadata": {},
   "source": [
    "**9. Previsões**\n",
    "- Usa o modelo treinado para prever os rótulos dos dados de teste."
   ]
  },
  {
   "cell_type": "markdown",
   "id": "7b9fb332-bd9d-41ab-897d-380b2f2f4bd1",
   "metadata": {},
   "source": [
    "#### 🐍 Código"
   ]
  },
  {
   "cell_type": "code",
   "execution_count": null,
   "id": "fb2fb3de-5ab7-4f7c-867b-20fdcfa3a5bd",
   "metadata": {},
   "outputs": [],
   "source": [
    "# 10. Fazer previsões\n",
    "y_pred = modelo.predict(X_teste)\n",
    "\n",
    "# 11. Avaliar o modelo\n",
    "print(\"Acurácia:\", accuracy_score(y_teste, y_pred))\n",
    "print(\"\\nRelatório de classificação:\")\n",
    "print(classification_report(y_teste, y_pred))"
   ]
  },
  {
   "cell_type": "markdown",
   "id": "1a5d14b1-7462-466e-9aa3-89e3584b7995",
   "metadata": {},
   "source": [
    "#### 🔖 Explicações"
   ]
  },
  {
   "cell_type": "markdown",
   "id": "34ff7502-0c5c-4ee9-b406-b014d03b46b4",
   "metadata": {},
   "source": [
    "**10. Avaliação do Modelo**\n",
    "- Calcula a acurácia (percentual de acertos).\n",
    "- Gera um relatório de classificação com precisão, recall e f1-score para \"positivo\" e \"negativo\"."
   ]
  },
  {
   "cell_type": "markdown",
   "id": "a928a53c-e8dd-47c7-9c77-09f78abd490d",
   "metadata": {},
   "source": [
    "#### 🐍 Código"
   ]
  },
  {
   "cell_type": "code",
   "execution_count": null,
   "id": "77930c73-ad30-4e20-be5f-08210363c35c",
   "metadata": {},
   "outputs": [],
   "source": [
    "# Testando com mais casos\n",
    "test_cases = [\n",
    "    \"Adorei o filme!\",\n",
    "    \"Péssimo serviço.\",\n",
    "    \"Excelente experiência!\",\n",
    "    \"Não gostei nada.\",\n",
    "    \"Super recomendo!\",\n",
    "    \"Produto horrível\",\n",
    "    \"Atendimento perfeito\",\n",
    "    \"Completamente insatisfeito\"\n",
    "]\n",
    "\n",
    "print(\"\\nPredições:\")\n",
    "for case in test_cases:\n",
    "    print(f\"{case:30} → {modelo.predict([case])[0]}\")"
   ]
  },
  {
   "cell_type": "markdown",
   "id": "c05478a2-4488-4cd3-b3f4-6f5acace45fc",
   "metadata": {},
   "source": [
    "#### 🔖 Explicações"
   ]
  },
  {
   "cell_type": "markdown",
   "id": "3fe0d2ad-8cf3-48d1-b966-2ee3b9bc6fa8",
   "metadata": {},
   "source": [
    "**11. Testes Adicionais**\n",
    "- Testa o modelo com novos textos (ex.: \"Adorei o filme!\" → positivo, \"Péssimo serviço.\" → negativo).\n",
    "- Imprime as predições para cada caso.\n",
    "- Reavalia a acurácia no conjunto de teste.\n",
    "- Faz predições individuais para exemplos como \"Adorável!\" (positivo), \"Serviço ruim.\" (negativo)."
   ]
  },
  {
   "cell_type": "markdown",
   "id": "da825f4b-e46c-4a3c-a800-028c058d9bf6",
   "metadata": {},
   "source": [
    "#### 🐍 Código"
   ]
  },
  {
   "cell_type": "code",
   "execution_count": null,
   "id": "2a343109-8bfc-4568-ad45-a2603b259416",
   "metadata": {},
   "outputs": [],
   "source": [
    "# Métricas de avaliação\n",
    "print(\"\\nAcurácia no teste:\", modelo.score(X_test, y_test))\n",
    "\n",
    "print(modelo.predict([\"Adorável!\"])[0])  # Saída esperada: positivo\n",
    "print(modelo.predict([\"Serviço ruim.\"])[0])  # Saída esperada: negativo\n",
    "print(modelo.predict([\"Deveria ser melhor\"])[0])  # Saída esperada: negativo"
   ]
  },
  {
   "cell_type": "markdown",
   "id": "0fc459e4-0526-458d-b3eb-50e61be30e9b",
   "metadata": {},
   "source": [
    "#### 🔖 Resumo"
   ]
  },
  {
   "cell_type": "markdown",
   "id": "eb8ee266-8c9a-4305-a305-161eb13f812d",
   "metadata": {},
   "source": [
    "\n",
    "O código cria um classificador de sentimentos que:\n",
    "- Processa textos em português removendo ruídos.\n",
    "- Treina um modelo Naive Bayes com um dataset artificial.\n",
    "- Avalia o desempenho e testa com novos exemplos, classificando sentimentos como positivos ou negativos."
   ]
  }
 ],
 "metadata": {
  "kernelspec": {
   "display_name": "Python ML (venv)",
   "language": "python",
   "name": "machine_learning"
  },
  "language_info": {
   "codemirror_mode": {
    "name": "ipython",
    "version": 3
   },
   "file_extension": ".py",
   "mimetype": "text/x-python",
   "name": "python",
   "nbconvert_exporter": "python",
   "pygments_lexer": "ipython3",
   "version": "3.10.5"
  }
 },
 "nbformat": 4,
 "nbformat_minor": 5
}
